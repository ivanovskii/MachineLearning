{
 "cells": [
  {
   "cell_type": "markdown",
   "id": "included-subcommittee",
   "metadata": {},
   "source": [
    "# The Street View House Numbers (SVHN) Dataset"
   ]
  },
  {
   "cell_type": "markdown",
   "id": "corresponding-activity",
   "metadata": {},
   "source": [
    "## Содержание"
   ]
  },
  {
   "cell_type": "markdown",
   "id": "proprietary-comment",
   "metadata": {},
   "source": [
    "1. [Подключение необходимых библиотек и загрузка датасета](#Подключение-необходимых-библиотек-и-загрузка-датасета) \n",
    "2. [Описание датасета](#Описание-датасета)\n",
    "    1. [Структура](#Структура)\n",
    "    2. [Вывод изображений из датасета](#Вывод-изображений-из-датасета)\n",
    "3. [Задание №1](#Задание-№1)\n",
    "    1. [Задача бинарной классификации](#Задача-бинарной-классификации)\n",
    "        1. [Предобработка данных](#Предобработка-данных)\n",
    "        2. [Обучение модели](#Обучение-модели)\n",
    "        3. [Прогнозирование](#Прогнозирование)\n",
    "        4. [Точность полученной модели](#Точность-полученной-модели)\n",
    "        5. [Обучение множества моделей с гиперпараметром от k=1 до k=max](#Обучение-множества-моделей-с-гиперпараметром-от-k=1-до-k=max)\n",
    "    2. [Задача множественной классификации](#Задача-множественной-классификации)\n",
    "        1. [Предобработка данных](#Предобработка-данных.)\n",
    "        2. [Обучение модели](#Обучение-модели.)\n",
    "        3. [Прогнозирование](#Прогнозирование.)\n",
    "        4. [Точность полученной модели](#Точность-полученной-модели.)\n",
    "        5. [Обучение множества моделей с гиперпараметром от k=1 до k=max](#Обучение-множества-моделей-с-гиперпараметром-от-k=1-до-k=max.)\n",
    "4. [Задание №2](#Задание-№2)\n",
    "    1. [Поиск оптимального значения гиперпараметра методом кросс-валидации](#Поиск-оптимального-значения-гиперпараметра-методом-кросс-валидации)\n",
    "    2. [Прогноз на тестовых данных с моделью, обученной при оптимальном значении k](#Прогноз-на-тестовых-данных-с-моделью,-обученной-при-оптимальном-значении-k)\n",
    "    3. [Точность модели при оптимальном k](#Точность-модели-при-оптимальном-k)"
   ]
  },
  {
   "cell_type": "markdown",
   "id": "copyrighted-regulation",
   "metadata": {},
   "source": [
    "## Подключение необходимых библиотек и загрузка датасета"
   ]
  },
  {
   "cell_type": "code",
   "execution_count": null,
   "id": "turned-guide",
   "metadata": {},
   "outputs": [],
   "source": [
    "import numpy as np\n",
    "import pandas as pd\n",
    "import matplotlib.pyplot as plt\n",
    "from dataset import load_svhn\n",
    "from sklearn.model_selection import train_test_split\n",
    "\n",
    "%matplotlib notebook\n",
    "#%matplotlib inline\n",
    "\n",
    "train_X, train_y, test_X, test_y = load_svhn(\"data\", max_train=1000, max_test=100)"
   ]
  },
  {
   "cell_type": "markdown",
   "id": "positive-subcommittee",
   "metadata": {},
   "source": [
    "## Описание датасета\n",
    "### Структура\n",
    "Структура датасета следующая:\n",
    "1. `train_X[i]` — i-ое изображение датасета;\n",
    "2. `train_X[i][row][col]` — вернет список из 3 элементов, где каждый элемент является интенсивностью цвета r, g, b соответственно, row*col пикселя i-ого изображения;\n",
    "\n",
    "Подробную информацию о датасете можно найти [здесь](http://ufldl.stanford.edu/housenumbers/)."
   ]
  },
  {
   "cell_type": "code",
   "execution_count": null,
   "id": "square-amazon",
   "metadata": {},
   "outputs": [],
   "source": [
    "train_X.shape"
   ]
  },
  {
   "cell_type": "markdown",
   "id": "liked-conjunction",
   "metadata": {},
   "source": [
    "### Вывод изображений из датасета"
   ]
  },
  {
   "cell_type": "code",
   "execution_count": null,
   "id": "coral-lounge",
   "metadata": {
    "scrolled": false
   },
   "outputs": [],
   "source": [
    "print(train_y[:36].reshape(6, 6))\n",
    "\n",
    "plot_index = 1\n",
    "for i in range(36):\n",
    "    plt.subplot(6, 6, plot_index)\n",
    "    image = train_X[i]\n",
    "    plt.imshow(image.astype(np.uint8))\n",
    "    plt.axis('off')\n",
    "    plot_index += 1"
   ]
  },
  {
   "cell_type": "markdown",
   "id": "seeing-education",
   "metadata": {},
   "source": [
    "## Задание №1\n",
    "### Постановка задачи\n",
    "Обучить модель и получить прогнозы для бинарной и мультиклассовой классификации набора данных street view house numbers. Вычислить значения метрик точности (accuracy, precision, recall, fscore) при трех разных значениях гиперпараметра k.\n",
    "### Задача бинарной классификации\n",
    "#### Предобработка данных"
   ]
  },
  {
   "cell_type": "code",
   "execution_count": null,
   "id": "apart-crawford",
   "metadata": {},
   "outputs": [],
   "source": [
    "binary_train_mask = (train_y == 0) | (train_y == 9)\n",
    "binary_train_X = train_X[binary_train_mask]\n",
    "binary_train_y = train_y[binary_train_mask]\n",
    "\n",
    "binary_test_mask = (test_y == 0) | (test_y == 9)\n",
    "binary_test_X = test_X[binary_test_mask]\n",
    "binary_test_y = test_y[binary_test_mask]\n",
    "\n",
    "\n",
    "# Преобразование в одномерный массив [num_samples, 32*32*3]\n",
    "binary_train_X = binary_train_X.reshape(binary_train_X.shape[0], -1)\n",
    "binary_test_X = binary_test_X.reshape(binary_test_X.shape[0], -1)"
   ]
  },
  {
   "cell_type": "markdown",
   "id": "infrared-islam",
   "metadata": {},
   "source": [
    "#### Обучение модели"
   ]
  },
  {
   "cell_type": "code",
   "execution_count": null,
   "id": "peaceful-complexity",
   "metadata": {},
   "outputs": [],
   "source": [
    "from sklearn.neighbors import KNeighborsClassifier\n",
    "\n",
    "model = KNeighborsClassifier(n_neighbors=4)\n",
    "model.fit(binary_train_X, binary_train_y)"
   ]
  },
  {
   "cell_type": "markdown",
   "id": "economic-piece",
   "metadata": {},
   "source": [
    "#### Прогнозирование"
   ]
  },
  {
   "cell_type": "code",
   "execution_count": null,
   "id": "isolated-afternoon",
   "metadata": {},
   "outputs": [],
   "source": [
    "y_pred = model.predict(binary_test_X)\n",
    "\n",
    "print(f\"{binary_test_y} -> Метки тестового набора\")\n",
    "print(f\"{y_pred} -> Прогнозы для тестового набора\")"
   ]
  },
  {
   "cell_type": "markdown",
   "id": "magnetic-cardiff",
   "metadata": {},
   "source": [
    "#### Точность полученной модели"
   ]
  },
  {
   "cell_type": "code",
   "execution_count": null,
   "id": "caroline-dragon",
   "metadata": {},
   "outputs": [],
   "source": [
    "from sklearn.metrics import precision_recall_fscore_support\n",
    "\n",
    "print('accuracy: {:.2f}'.format(model.score(binary_test_X, binary_test_y)))\n",
    "\n",
    "print(\n",
    "    \"precision: {}\\\n",
    "    \\nrecall: {}\\\n",
    "    \\nfscore: {}\\\n",
    "    \\nsupport: {}\".format(*precision_recall_fscore_support(binary_test_y, y_pred, average='macro'))\n",
    ")"
   ]
  },
  {
   "cell_type": "markdown",
   "id": "russian-visit",
   "metadata": {},
   "source": [
    "#### Обучение множества моделей с гиперпараметром от k=1 до k=max"
   ]
  },
  {
   "cell_type": "code",
   "execution_count": null,
   "id": "pressing-package",
   "metadata": {
    "scrolled": false
   },
   "outputs": [],
   "source": [
    "accuracies, precision, recall, fscore = [], [], [], []\n",
    "\n",
    "for k in range(len(binary_train_X)):\n",
    "    model = KNeighborsClassifier(n_neighbors=k+1)\n",
    "    model.fit(binary_train_X, binary_train_y)\n",
    "    y_pred = model.predict(binary_test_X)\n",
    "    \n",
    "    # Вычисление ошибок\n",
    "    accuracies.append(model.score(binary_test_X, binary_test_y))\n",
    "    pr, rec, fs, sup = precision_recall_fscore_support(binary_test_y, y_pred, average='macro', warn_for=tuple())\n",
    "\n",
    "    precision.append(pr)\n",
    "    recall.append(rec)\n",
    "    fscore.append(fs)\n",
    "\n",
    "plt.plot(np.arange(1, 122), accuracies, label=\"score\")\n",
    "plt.plot(np.arange(1, 122), precision, label=\"precision\")\n",
    "plt.plot(np.arange(1, 122), recall, label=\"recall\")\n",
    "plt.plot(np.arange(1, 122), fscore, label=\"fscore\")\n",
    "\n",
    "plt.legend(loc='center right', frameon=True, ncol=2)\n",
    "plt.show()"
   ]
  },
  {
   "cell_type": "markdown",
   "id": "compliant-folder",
   "metadata": {},
   "source": [
    "### Задача множественной классификации"
   ]
  },
  {
   "cell_type": "markdown",
   "id": "accompanied-dining",
   "metadata": {},
   "source": [
    "#### Предобработка данных."
   ]
  },
  {
   "cell_type": "code",
   "execution_count": null,
   "id": "incorporate-sitting",
   "metadata": {},
   "outputs": [],
   "source": [
    "# Преобразование в одномерный массив [num_samples, 32*32*3]\n",
    "mult_train_X = train_X.reshape(train_X.shape[0], -1)\n",
    "mult_test_X = test_X.reshape(test_X.shape[0], -1)"
   ]
  },
  {
   "cell_type": "markdown",
   "id": "brief-festival",
   "metadata": {},
   "source": [
    "#### Обучение модели."
   ]
  },
  {
   "cell_type": "code",
   "execution_count": null,
   "id": "cosmetic-settlement",
   "metadata": {},
   "outputs": [],
   "source": [
    "model = KNeighborsClassifier(n_neighbors=4)\n",
    "\n",
    "model.fit(mult_train_X, train_y)"
   ]
  },
  {
   "cell_type": "markdown",
   "id": "stylish-knife",
   "metadata": {},
   "source": [
    "#### Прогнозирование."
   ]
  },
  {
   "cell_type": "code",
   "execution_count": null,
   "id": "colonial-korean",
   "metadata": {},
   "outputs": [],
   "source": [
    "y_pred = model.predict(mult_test_X)\n",
    "\n",
    "print(f\"Метки тестового набора:\\n{test_y}\\n\")\n",
    "print(f\"Прогнозы для тестового набора:\\n{y_pred}\")"
   ]
  },
  {
   "cell_type": "markdown",
   "id": "developing-province",
   "metadata": {},
   "source": [
    "#### Точность полученной модели."
   ]
  },
  {
   "cell_type": "code",
   "execution_count": null,
   "id": "dedicated-possibility",
   "metadata": {},
   "outputs": [],
   "source": [
    "print('accuracy: {:.2f}'.format(model.score(mult_test_X, test_y)))\n",
    "\n",
    "print(\n",
    "    \"precision: {}\\\n",
    "    \\nrecall: {}\\\n",
    "    \\nfscore: {}\\\n",
    "    \\nsupport: {}\".format(*precision_recall_fscore_support(test_y, y_pred, average='macro'))\n",
    ")"
   ]
  },
  {
   "cell_type": "markdown",
   "id": "rough-cancer",
   "metadata": {},
   "source": [
    "#### Обучение множества моделей с гиперпараметром от k=1 до k=max."
   ]
  },
  {
   "cell_type": "code",
   "execution_count": null,
   "id": "precise-saint",
   "metadata": {},
   "outputs": [],
   "source": [
    "# Осторожно! Длительные вычисления. На моем железе ячейка вычисляется ~1 мин. 10 сек.\n",
    "\n",
    "accuracies, precision, recall, fscore = [], [], [], []\n",
    "\n",
    "for k in range(len(mult_train_X)):\n",
    "    model = KNeighborsClassifier(n_neighbors=k+1)\n",
    "    model.fit(mult_train_X, train_y)\n",
    "    y_pred = model.predict(mult_test_X)\n",
    "    \n",
    "    # Вычисление ошибок\n",
    "    accuracies.append(model.score(mult_test_X, test_y))\n",
    "    pr, rec, fs, sup = precision_recall_fscore_support(test_y, y_pred, average='macro', warn_for=tuple())\n",
    "\n",
    "    precision.append(pr)\n",
    "    recall.append(rec)\n",
    "    fscore.append(fs)\n",
    "\n",
    "plt.plot(np.arange(1, 1001), accuracies, label=\"score\")\n",
    "plt.plot(np.arange(1, 1001), precision, label=\"precision\")\n",
    "plt.plot(np.arange(1, 1001), recall, label=\"recall\")\n",
    "plt.plot(np.arange(1, 1001), fscore, label=\"fscore\")\n",
    "\n",
    "plt.legend(loc='upper right', frameon=True, ncol=2)\n",
    "plt.show()"
   ]
  },
  {
   "cell_type": "markdown",
   "id": "modified-bristol",
   "metadata": {},
   "source": [
    "## Задание №2\n",
    "### Постановка задачи\n",
    "Реализовать метод кросс-валидации для подбора оптимального значения гиперпараметра k из массива k_choices = [1, 2, 3, 5, 8, 10, 15, 20, 25, 50]. Разбить датасет на части с помощью функции [StratifiedKFold](https://scikit-learn.org/stable/modules/generated/sklearn.model_selection.StratifiedKFold.html) (from sklearn.model_selection), вычислить средние метрики (accuracy, precision, recall, fscore) для каждого k из массива k_choices на валидационных данных. Сделать прогноз на тестовых данных с моделью, обученной при оптимальном значении k.\n",
    "### Поиск оптимального значения гиперпараметра методом кросс-валидации"
   ]
  },
  {
   "cell_type": "code",
   "execution_count": null,
   "id": "royal-speech",
   "metadata": {},
   "outputs": [],
   "source": [
    "import statistics as stat\n",
    "from sklearn.model_selection import StratifiedKFold\n",
    "\n",
    "k_choices = [1, 2, 3, 5, 8, 10, 15, 20, 25, 50]\n",
    "accuracies = []\n",
    "\n",
    "folds = StratifiedKFold(n_splits=5)\n",
    "for k in k_choices:\n",
    "    accuracy = []\n",
    "    for train_index, test_index in folds.split(mult_train_X, train_y):\n",
    "        X_train_folds, y_train_folds = mult_train_X[train_index], train_y[train_index]\n",
    "        X_test_fold, y_test_fold = mult_train_X[test_index], train_y[test_index]\n",
    "        \n",
    "        model = KNeighborsClassifier(n_neighbors=k)\n",
    "        model.fit(X_train_folds, y_train_folds)\n",
    "        \n",
    "        accuracy.append(model.score(X_test_fold, y_test_fold))\n",
    "    accuracies.append(stat.mean(accuracy))\n",
    "\n",
    "best_k = k_choices[accuracies.index(max(accuracies))]"
   ]
  },
  {
   "cell_type": "code",
   "execution_count": null,
   "id": "dramatic-combine",
   "metadata": {},
   "outputs": [],
   "source": [
    "plt.plot(k_choices, accuracies, k_choices, accuracies, '.', label=\"score\")\n",
    "print(f\"Best k = {best_k}\")"
   ]
  },
  {
   "cell_type": "markdown",
   "id": "common-subcommittee",
   "metadata": {},
   "source": [
    "### Прогноз на тестовых данных с моделью, обученной при оптимальном значении k"
   ]
  },
  {
   "cell_type": "code",
   "execution_count": null,
   "id": "accepted-anthropology",
   "metadata": {},
   "outputs": [],
   "source": [
    "model =  KNeighborsClassifier(n_neighbors=best_k)\n",
    "model.fit(mult_train_X, train_y)\n",
    "\n",
    "y_pred = model.predict(mult_test_X)\n",
    "\n",
    "print(f\"Метки тестового набора:\\n{test_y}\\n\")\n",
    "print(f\"Прогнозы для тестового набора:\\n{y_pred}\")"
   ]
  },
  {
   "cell_type": "markdown",
   "id": "aware-observation",
   "metadata": {},
   "source": [
    "### Точность модели при оптимальном k"
   ]
  },
  {
   "cell_type": "code",
   "execution_count": null,
   "id": "transparent-detector",
   "metadata": {},
   "outputs": [],
   "source": [
    "print('accuracy: {:.2f}'.format(model.score(mult_test_X, test_y)))\n",
    "\n",
    "print(\n",
    "    \"precision: {}\\\n",
    "    \\nrecall: {}\\\n",
    "    \\nfscore: {}\\\n",
    "    \\nsupport: {}\".format(*precision_recall_fscore_support(test_y, y_pred, average='macro', warn_for=tuple()))\n",
    ")"
   ]
  }
 ],
 "metadata": {
  "kernelspec": {
   "display_name": "Python 3",
   "language": "python",
   "name": "python3"
  },
  "language_info": {
   "codemirror_mode": {
    "name": "ipython",
    "version": 3
   },
   "file_extension": ".py",
   "mimetype": "text/x-python",
   "name": "python",
   "nbconvert_exporter": "python",
   "pygments_lexer": "ipython3",
   "version": "3.9.0"
  }
 },
 "nbformat": 4,
 "nbformat_minor": 5
}
