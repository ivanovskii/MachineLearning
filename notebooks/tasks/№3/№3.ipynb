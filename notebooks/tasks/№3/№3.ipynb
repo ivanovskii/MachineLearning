{
 "cells": [
  {
   "cell_type": "markdown",
   "id": "obvious-webster",
   "metadata": {},
   "source": [
    "#  База данных образцов рукописного написания цифр MNIST\n",
    "## Содержание\n",
    "1. [Подключение библиотек и загрузка датасета](#Подключение-библиотек-и-загрузка-датасета)\n",
    "2. [Описание датасета](#Описание-датасета)\n",
    "3. [Задание №1](#Задание-№1)\n",
    "    1. [Постановка задачи](#Постановка-задачи)\n",
    "    2. [Проверка совпадения размерностей](#Проверка-совпадения-размерностей)\n",
    "    3. [Проверка совпадения меток с реальными изображениями](#Проверка-совпадения-меток-с-реальными-изображениями)\n",
    "    4. [Обучение модели](#Обучение-модели)\n",
    "    5. [Прогнозы для тестового набора](#Прогнозы-для-тестового-набора)\n",
    "    6. [Оценка точности модели](#Оценка-точности-модели)\n",
    "    7. [Прогнозирование по созданным в paint картинкам](#Прогнозирование-по-созданным-в-paint-картинкам)\n",
    "\n",
    "## Подключение библиотек и загрузка датасета"
   ]
  },
  {
   "cell_type": "code",
   "execution_count": null,
   "id": "outside-router",
   "metadata": {
    "scrolled": false
   },
   "outputs": [],
   "source": [
    "import numpy as np\n",
    "import pandas as pd\n",
    "from matplotlib import pyplot as plt\n",
    "\n",
    "%matplotlib notebook\n",
    "\n",
    "train_set_df = pd.read_csv('data/mnist_train.csv')\n",
    "test_set_df = pd.read_csv('data/mnist_test.csv')"
   ]
  },
  {
   "cell_type": "markdown",
   "id": "distinct-bradford",
   "metadata": {},
   "source": [
    "## Описание датасета\n",
    "\n",
    "База данных MNIST — объёмная база данных образцов рукописного написания цифр. [Оригинальный датасет](http://yann.lecun.com/exdb/mnist/) имеет неудобный формат `.gz`, поэтому будем использовать преобразованный в `.csv` датасет. Скачать его можно [здесь](https://www.kaggle.com/oddrationale/mnist-in-csv) (требуется регистрация) или [здесь](https://drive.google.com/drive/folders/18sSDOlcoxG8witUyMRsB0mAuxPl4n5QQ?usp=sharing). Пример преобразования оригинального датасета в `.csv` можно найти [тут](https://pjreddie.com/projects/mnist-in-csv/).\n",
    "\n",
    "Датасет состоит из двух файлов:\n",
    "1. `mnist_train.csv` содержит 60 000 тренировочных примеров и меток. \n",
    "2. `mnist_test.csv` содержит 10 000 тестовых примеров и меток.\n",
    "\n",
    "Каждая строка состоит из 785 значений: первый элемент строки - это метка (число от 0 до 9), а остальные 784 элемента - это значения пикселей (число от 0 до 255).\n",
    "\n",
    "Тренировочный и тестовый сеты:"
   ]
  },
  {
   "cell_type": "code",
   "execution_count": null,
   "id": "durable-attitude",
   "metadata": {},
   "outputs": [],
   "source": [
    "train_set_df"
   ]
  },
  {
   "cell_type": "code",
   "execution_count": null,
   "id": "hydraulic-black",
   "metadata": {},
   "outputs": [],
   "source": [
    "test_set_df"
   ]
  },
  {
   "cell_type": "markdown",
   "id": "competent-musician",
   "metadata": {},
   "source": [
    "Каждый сет разделим на признаки и метки, преобразуя для удобства в numpy массив:"
   ]
  },
  {
   "cell_type": "code",
   "execution_count": null,
   "id": "interior-embassy",
   "metadata": {},
   "outputs": [],
   "source": [
    "train_x = train_set_df.loc[:, '1x1':].to_numpy()\n",
    "train_y = train_set_df.loc[:, 'label'].to_numpy()\n",
    "\n",
    "test_x = test_set_df.loc[:, '1x1':].to_numpy()\n",
    "test_y = test_set_df.loc[:, 'label'].to_numpy()"
   ]
  },
  {
   "cell_type": "markdown",
   "id": "difficult-collar",
   "metadata": {},
   "source": [
    "# Задание №1\n",
    "### Постановка задачи\n",
    "Обучить методом k-ближайщих соседей MNIST датасет, предварительно проверив совпадение размерностей x_train и y_train, x_test и y_test, совпадение меток в y_train с реальными изображениями в x_train. Создать в paint несколько картинок и сделать по ним predict. Вычислить точность полученной модели."
   ]
  },
  {
   "cell_type": "markdown",
   "id": "familiar-tragedy",
   "metadata": {},
   "source": [
    "### Проверка совпадения размерностей"
   ]
  },
  {
   "cell_type": "code",
   "execution_count": null,
   "id": "quality-brazilian",
   "metadata": {},
   "outputs": [],
   "source": [
    "print(train_x.shape, train_y.shape)\n",
    "print(test_x.shape, test_y.shape)"
   ]
  },
  {
   "cell_type": "markdown",
   "id": "medical-energy",
   "metadata": {},
   "source": [
    "### Проверка совпадения меток с реальными изображениями\n",
    "Напишем функцию для вывода изображений из датасета:"
   ]
  },
  {
   "cell_type": "code",
   "execution_count": null,
   "id": "minute-beginning",
   "metadata": {},
   "outputs": [],
   "source": [
    "def show_numbers(nrows, ncols, images, labels=None):\n",
    "    plot_index = 1\n",
    "    for i in range(nrows*ncols):\n",
    "        plt.subplot(nrows, ncols, plot_index)\n",
    "        img = images[i].reshape(28, 28)\n",
    "        plt.imshow(img, cmap=\"gray\")\n",
    "        if labels is not None:\n",
    "            plt.title(labels[i])\n",
    "        plt.axis('off')\n",
    "        plot_index += 1\n",
    "    \n",
    "    plt.tight_layout()"
   ]
  },
  {
   "cell_type": "code",
   "execution_count": null,
   "id": "assigned-allen",
   "metadata": {},
   "outputs": [],
   "source": [
    "show_numbers(2, 5, train_x, train_y)"
   ]
  },
  {
   "cell_type": "markdown",
   "id": "concrete-tonight",
   "metadata": {},
   "source": [
    "Инвертируем цвета и выведем изображения вновь:"
   ]
  },
  {
   "cell_type": "code",
   "execution_count": null,
   "id": "white-costa",
   "metadata": {},
   "outputs": [],
   "source": [
    "train_x = abs(train_x - 255)\n",
    "test_x = abs(test_x - 255)"
   ]
  },
  {
   "cell_type": "code",
   "execution_count": null,
   "id": "whole-tuner",
   "metadata": {},
   "outputs": [],
   "source": [
    "show_numbers(2, 5, train_x, train_y)"
   ]
  },
  {
   "cell_type": "markdown",
   "id": "every-cocktail",
   "metadata": {},
   "source": [
    "### Обучение модели"
   ]
  },
  {
   "cell_type": "code",
   "execution_count": null,
   "id": "parliamentary-porter",
   "metadata": {},
   "outputs": [],
   "source": [
    "from sklearn.neighbors import KNeighborsClassifier\n",
    "\n",
    "model = KNeighborsClassifier(n_neighbors=3)\n",
    "model.fit(train_x, train_y)"
   ]
  },
  {
   "cell_type": "markdown",
   "id": "agreed-pitch",
   "metadata": {},
   "source": [
    "### Прогнозы для тестового набора"
   ]
  },
  {
   "cell_type": "code",
   "execution_count": null,
   "id": "junior-measurement",
   "metadata": {},
   "outputs": [],
   "source": [
    "y_pred = model.predict(test_x)\n",
    "\n",
    "print(f\"{test_y[:35]} -> Метки тестового набора\")\n",
    "print(f\"{y_pred[:35]} -> Прогнозы для тестового набора\")"
   ]
  },
  {
   "cell_type": "markdown",
   "id": "unexpected-estimate",
   "metadata": {},
   "source": [
    "### Оценка точности модели"
   ]
  },
  {
   "cell_type": "code",
   "execution_count": null,
   "id": "sitting-money",
   "metadata": {},
   "outputs": [],
   "source": [
    "from sklearn.metrics import precision_recall_fscore_support\n",
    "\n",
    "print(f\"Точность на тренировочных данных: {model.score(train_x, train_y)}\")\n",
    "print(f\"Точность на тестовых данных: {model.score(test_x, test_y)}\")\n",
    "\n",
    "fscore = precision_recall_fscore_support(test_y, y_pred, average='macro')\n",
    "\n",
    "print(\"\\nДля тестового набора данных:\\nprecision: {}\\nrecall: {}\\nfscore: {}\\nsupport: {}\".format(*fscore))"
   ]
  },
  {
   "cell_type": "markdown",
   "id": "three-pattern",
   "metadata": {},
   "source": [
    "### Прогнозирование по созданным в paint картинкам"
   ]
  },
  {
   "cell_type": "code",
   "execution_count": null,
   "id": "black-combination",
   "metadata": {},
   "outputs": [],
   "source": [
    "import os\n",
    "from tensorflow.keras.preprocessing import image\n",
    "\n",
    "images = []\n",
    "for root, dirs, files in os.walk(\"predict\"):\n",
    "    for file in files:\n",
    "        path = os.path.join(root, file)\n",
    "        try:\n",
    "            img = image.load_img(path, target_size=(28, 28), color_mode='grayscale')\n",
    "            img = image.img_to_array(img).ravel()\n",
    "            images.append(img)\n",
    "        except:\n",
    "            continue\n",
    "\n",
    "y_pred = model.predict(images)\n",
    "\n",
    "show_numbers(2, 5, images, y_pred)"
   ]
  }
 ],
 "metadata": {
  "kernelspec": {
   "display_name": "Python 3",
   "language": "python",
   "name": "python3"
  },
  "language_info": {
   "codemirror_mode": {
    "name": "ipython",
    "version": 3
   },
   "file_extension": ".py",
   "mimetype": "text/x-python",
   "name": "python",
   "nbconvert_exporter": "python",
   "pygments_lexer": "ipython3",
   "version": "3.8.8"
  }
 },
 "nbformat": 4,
 "nbformat_minor": 5
}
