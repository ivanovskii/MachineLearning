{
 "cells": [
  {
   "cell_type": "markdown",
   "metadata": {},
   "source": [
    "# The Boston Housing Dataset"
   ]
  },
  {
   "cell_type": "markdown",
   "metadata": {},
   "source": [
    "## Навигация\n",
    "1. [Подключение библиотек и загрузка датасета](#Подключение-библиотек-и-загрузка-датасета)\n",
    "2. [Описание датасета](#Описание-датасета)\n",
    "    1. [Описание полей набора данных](#Описание-полей-набора-данных)\n",
    "    2. [Структура датасета](#Структура-датасета)\n",
    "3. [Задание №1](#Задание-№1)\n",
    "    1. [Постановка задачи](#Постановка-задачи)\n",
    "    2. [Разделение датасета на тренировочную и тестовую выборки](#Разделение-датасета-на-тренировочную-и-тестовую-выборки)\n",
    "    3. [Обучение модели](#Обучение-модели)\n",
    "    4. [Прогнозирование и точность обученной модели](#Прогнозирование-и-точность-обученной-модели)\n",
    "    5. [Значения весовых коэффициентов и свободного b](#Значения-весовых-коэффициентов-и-свободного-b)\n",
    "    6. [DataFrame на основе тестовых данных](#DataFrame-на-основе-тестовых-данных)\n",
    "    7. [Feature importance](#Feature-importance)\n",
    "    8. [Обучение модели на расширенном датасете](#Обучение-модели-на-расширенном-датасете)\n",
    "        1. [Расширение датасета](#Расширение-датасета)\n",
    "        2. [Обучение модели на расширенном датасете и оценка точности](#Обучение-модели-на-расширенном-датасете-и-оценка-точности)"
   ]
  },
  {
   "cell_type": "markdown",
   "metadata": {},
   "source": [
    "## Подключение библиотек и загрузка датасета"
   ]
  },
  {
   "cell_type": "code",
   "execution_count": null,
   "metadata": {},
   "outputs": [],
   "source": [
    "import numpy as np\n",
    "import pandas as pd\n",
    "from matplotlib import pyplot as plt\n",
    "from sklearn.datasets import load_boston\n",
    "\n",
    "%matplotlib notebook\n",
    "\n",
    "boston = load_boston()\n",
    "x, y = boston['data'], boston['target']"
   ]
  },
  {
   "cell_type": "markdown",
   "metadata": {},
   "source": [
    "## Описание датасета\n",
    "\n",
    "*Примечание:* перевод информации о датасете может быть не точным. Информация взята [отсюда.](https://www.cs.toronto.edu/~delve/data/boston/bostonDetail.html)\n",
    "\n",
    "В данном наборе данных содержится информация, собранная Службой переписи населения США в отношении жилья в районе Бостон Массачусетс. Она была получена из архива [StatLib](http://lib.stat.cmu.edu/datasets/boston) и широко использовалась во всей литературе для сравнения алгоритмов. Однако эти сравнения проводились в основном за пределами Делве и, таким образом, вызывают некоторое подозрение. Набор данных невелик по размеру и насчитывает всего 506 случаев.\n",
    "\n",
    "Первоначально данные были опубликованы в Harrison, D. and Rubinfeld, D.L. \"Hedonic prices and the demand for clean air\", J. Environ. Economics & Management, vol.5, 81-102, 1978.\n",
    "\n",
    "### Описание полей набора данных\n",
    "1. `CRIM` — Уровень преступности на душу населения по городам;\n",
    "2. `ZN` — Доля жилой земли, распределенной на участки площадью более 25 000 кв. футов;\n",
    "3. `INDUS` — Доля акров, не относящихся к розничной торговле, на город;\n",
    "4. `CHAS` — Бинарная переменная Charles River (1 если участок граничит с рекой; иначе 0);\n",
    "5. `NOX` — Концентрация оксидов азота (частей на 10 миллионов);\n",
    "6. `RM` — Среднее количество комнат на квартиру;\n",
    "7. `AGE` — Доля занятых владельцами жилых единиц, построенных до 1940 года;\n",
    "8. `DIS` — Взвешенные расстояния до пяти Бостонских центров занятости;\n",
    "9. `RAD` — Индекс доступности к кольцевым магистралям;\n",
    "10. `TAX` — Ставка налога на недвижимость в полном объёме в \\\\$10,000;\n",
    "11. `PTRATIO` — Cоотношение учеников к учителям по городам;\n",
    "12. `B` — $1000⋅(Bk - 0.63)^2$, где $Bk$ — доля чернокожих по городу;\n",
    "13. `LSTAT` — % более низкого статуса населения;\n",
    "14. `MEDV` — Медианная стоимость домов, заселенных владельцами, в \\\\$1000;\n",
    "\n",
    "### Структура датасета"
   ]
  },
  {
   "cell_type": "code",
   "execution_count": null,
   "metadata": {},
   "outputs": [],
   "source": [
    "boston.keys()"
   ]
  },
  {
   "cell_type": "markdown",
   "metadata": {},
   "source": [
    "`boston['data']` представляет собой матрицу, в которой строка — определенная квартира, а столбец — 1 из 13 признаков, представленных выше. `boston['target']` — вектор из 506 элементов, где $i$-ый элемент является медианной стоимостью $i$-ого дома."
   ]
  },
  {
   "cell_type": "code",
   "execution_count": null,
   "metadata": {},
   "outputs": [],
   "source": [
    "print(boston['data'].shape)\n",
    "print(boston['target'].shape)"
   ]
  },
  {
   "cell_type": "code",
   "execution_count": null,
   "metadata": {
    "scrolled": false
   },
   "outputs": [],
   "source": [
    "print(boston['DESCR'])"
   ]
  },
  {
   "cell_type": "markdown",
   "metadata": {},
   "source": [
    "## Задание №1\n",
    "### Постановка задачи\n",
    "Изучить набор данных boston_house, применить линейный классификатор для прогноза медианной цены. Организовать DataFrame на основе тестовых данных (в качестве столбцов использовать признаки, значения y_test, значения y_pred, разницу между y_pred и y_test). Вывести полученные значения весовых коэффициентов и свободного b, вычислить точность. А также:\n",
    "1. Найти feature importance;\n",
    "2. Расширить датасет следующим образом: 13 (столбцов исходных признаков) + 13 (квадраты каждого признака) + $\\frac{13!}{(13 - 2)!*2!}$ (попарные произведения) = $26 + \\frac{13*12}{2}$ = 104 столбца в расширенном датасете. Обучить модель с полученным датасетом и оценить его точность.\n",
    "\n",
    "### Разделение датасета на тренировочную и тестовую выборки"
   ]
  },
  {
   "cell_type": "code",
   "execution_count": null,
   "metadata": {},
   "outputs": [],
   "source": [
    "from sklearn.model_selection import train_test_split\n",
    "\n",
    "X_train, X_test, y_train, y_test = train_test_split(x, y, random_state=0)"
   ]
  },
  {
   "cell_type": "markdown",
   "metadata": {},
   "source": [
    "### Обучение модели"
   ]
  },
  {
   "cell_type": "code",
   "execution_count": null,
   "metadata": {},
   "outputs": [],
   "source": [
    "from sklearn.linear_model import LinearRegression\n",
    "\n",
    "lr = LinearRegression().fit(X_train, y_train)"
   ]
  },
  {
   "cell_type": "markdown",
   "metadata": {},
   "source": [
    "### Прогнозирование и точность обученной модели"
   ]
  },
  {
   "cell_type": "code",
   "execution_count": null,
   "metadata": {},
   "outputs": [],
   "source": [
    "np.set_printoptions(precision=1)\n",
    "\n",
    "y_pred = lr.predict(X_test)\n",
    "\n",
    "print(\"Метки тестового набора:\\n\", y_test)\n",
    "print(\"\\nПрогнозы для тестового набора\\n\", y_pred)"
   ]
  },
  {
   "cell_type": "code",
   "execution_count": null,
   "metadata": {},
   "outputs": [],
   "source": [
    "print('Точность на тренировочных данных: {:.2f}'.format(lr.score(X_train, y_train)))\n",
    "print('Точность на тестовых данных: {:.2f}'.format(lr.score(X_test, y_test)))"
   ]
  },
  {
   "cell_type": "markdown",
   "metadata": {},
   "source": [
    "### Значения весовых коэффициентов и свободного b\n",
    "Множественная линейная регрессионная модель имеет следующий вид:\n",
    "\n",
    "$$y=\\omega_0 x_0 + \\omega_1 x_1 +...+ \\omega_n x_n + b$$\n",
    "\n",
    "Здесь:\n",
    "* $\\omega_i$ — весовые параметры (коэффициенты) регрессии;\n",
    "* $x_i$ — регрессоры модели (строка признаков из `boston['data']`);\n",
    "* $b$ — свободный член;\n",
    "* $y$ — результат предсказания.\n",
    "\n",
    "Для определения полученных весовых коэффициетов $\\omega_i$ и свободного $b$ вызовем встроенные методы модели, обученной линейной регрессией, `.coef_` и `.intercept_` соответственно:"
   ]
  },
  {
   "cell_type": "code",
   "execution_count": null,
   "metadata": {},
   "outputs": [],
   "source": [
    "print(f'lr coeff = {lr.coef_}')\n",
    "print(f'lr intercept = {lr.intercept_}')"
   ]
  },
  {
   "cell_type": "markdown",
   "metadata": {},
   "source": [
    "### DataFrame на основе тестовых данных"
   ]
  },
  {
   "cell_type": "code",
   "execution_count": null,
   "metadata": {
    "scrolled": false
   },
   "outputs": [],
   "source": [
    "test_df = pd.DataFrame(X_test, columns=boston['feature_names'])\n",
    "\n",
    "test_df['y_test'] = y_test\n",
    "test_df['y_pred'] = y_pred\n",
    "test_df['sub_y'] = abs(y_test - y_pred)\n",
    "\n",
    "test_df"
   ]
  },
  {
   "cell_type": "markdown",
   "metadata": {},
   "source": [
    "### Feature importance\n",
    "Feature importance подразумевает технику, которая оценивает входные характеристики, основываясь на том, насколько они полезны при прогнозировании целевой переменной.\n",
    "\n",
    "Для нашего случая достаточно нормализовать данные, обучить модель на нормализованных данных и получить весовые коэффициенты $\\omega_i$.\n",
    "\n",
    "Подробно расписано [здесь.](https://machinelearningmastery.com/calculate-feature-importance-with-python/)"
   ]
  },
  {
   "cell_type": "code",
   "execution_count": null,
   "metadata": {},
   "outputs": [],
   "source": [
    "X_train_df = pd.DataFrame(X_train, columns=boston['feature_names'])\n",
    "\n",
    "normalized_X_train_df = X_train_df / X_train_df.max()\n",
    "\n",
    "normalized_X_train_df"
   ]
  },
  {
   "cell_type": "code",
   "execution_count": null,
   "metadata": {},
   "outputs": [],
   "source": [
    "# Обучаем на нормализованных данных\n",
    "lr = LinearRegression().fit(normalized_X_train_df, y_train)\n",
    "\n",
    "# Сортируем пару \"название признака - весовой коэффициент\"\n",
    "f_importances = sorted(list(zip(boston['feature_names'], lr.coef_)), key=lambda xy: xy[1])\n",
    "\n",
    "plt.barh(\n",
    "    [x[0] for x in f_importances],\n",
    "    [y[1] for y in f_importances],\n",
    ")\n",
    "\n",
    "plt.show()"
   ]
  },
  {
   "cell_type": "markdown",
   "metadata": {},
   "source": [
    "### Обучение модели на расширенном датасете"
   ]
  },
  {
   "cell_type": "markdown",
   "metadata": {},
   "source": [
    "#### Расширение датасета"
   ]
  },
  {
   "cell_type": "code",
   "execution_count": null,
   "metadata": {},
   "outputs": [],
   "source": [
    "from itertools import combinations\n",
    "\n",
    "pairwise_product = np.array(list(map(lambda xy: xy[0]*xy[1], combinations(x.T, 2)))).T\n",
    "print(f\"Размерность попарного произведения стобцов: {pairwise_product.shape}\")\n",
    "\n",
    "x = np.append(np.append(x, x**2, axis=1), pairwise_product, axis=1)\n",
    "\n",
    "print(f\"Итоговая размерность расширенного датасета: {x.shape}\")"
   ]
  },
  {
   "cell_type": "markdown",
   "metadata": {},
   "source": [
    "#### Обучение модели на расширенном датасете и оценка точности"
   ]
  },
  {
   "cell_type": "code",
   "execution_count": null,
   "metadata": {},
   "outputs": [],
   "source": [
    "X_train, X_test, y_train, y_test = train_test_split(x, y, random_state=0)\n",
    "\n",
    "lr = LinearRegression().fit(X_train, y_train)\n",
    "\n",
    "print('Точность на тренировочных данных: {:.2f}'.format(lr.score(X_train, y_train)))\n",
    "print('Точность на тестовых данных: {:.2f}'.format(lr.score(X_test, y_test)))"
   ]
  }
 ],
 "metadata": {
  "kernelspec": {
   "display_name": "Python 3",
   "language": "python",
   "name": "python3"
  },
  "language_info": {
   "codemirror_mode": {
    "name": "ipython",
    "version": 3
   },
   "file_extension": ".py",
   "mimetype": "text/x-python",
   "name": "python",
   "nbconvert_exporter": "python",
   "pygments_lexer": "ipython3",
   "version": "3.9.0"
  }
 },
 "nbformat": 4,
 "nbformat_minor": 2
}
