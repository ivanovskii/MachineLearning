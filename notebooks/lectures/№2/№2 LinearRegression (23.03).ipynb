{
 "cells": [
  {
   "cell_type": "markdown",
   "id": "choice-figure",
   "metadata": {},
   "source": [
    "# Метод линейной регрессии на сгенерированном датасете\n",
    "### Содержание\n",
    "1. [Немного теории](#Немного-теории)\n",
    "2. [Подключение библиотек и генерация датасета](#Подключение-библиотек-и-генерация-датасета)\n",
    "3. [Разделение данных на тренировочную и тестовую выборки](#Разделение-данных-на-тренировочную-и-тестовую-выборки)\n",
    "4. [Обучение модели и оценка точности](#Обучение-модели-и-оценка-точности)\n",
    "5. [Прогнозирование](#Прогнозирование)\n",
    "6. [Получившиеся весовые коэффициенты 𝜔, свободный член 𝑏](#Получившиеся-весовые-коэффициенты-$\\omega$,-свободный-член-$b$)\n",
    "7. [Линия регрессии](#Линия-регрессии)\n",
    "\n",
    "### Немного теории\n",
    "Линейная регрессия — метод восстановления зависимости одной (объясняемой, зависимой) переменной $y$ от другой или нескольких других переменных (факторов, регрессоров, независимых переменных) $x$ с линейной функцией зависимости. Данный метод позволяет предсказывать значения зависимой переменной $y$ по значениям независимой переменной $x$. \n",
    "\n",
    "Множественная линейная регрессионная модель имеет следующий вид:\n",
    "\n",
    "$$y=\\omega_0 x_0 + \\omega_1 x_1 +...+ \\omega_n x_n + b$$\n",
    "\n",
    "Здесь:\n",
    "* $\\omega_i$ — весовые параметры (коэффициенты) регрессии;\n",
    "* $x_i$ — регрессоры модели (признаки определенного сэмпла);\n",
    "* $b$ — свободный член;\n",
    "* $y$ — результат предсказания.\n",
    "\n",
    "Подробнее о линейной регрессии можно почитать в гугле, например, [тут](http://neerc.ifmo.ru/wiki/index.php?title=%D0%9B%D0%B8%D0%BD%D0%B5%D0%B9%D0%BD%D0%B0%D1%8F_%D1%80%D0%B5%D0%B3%D1%80%D0%B5%D1%81%D1%81%D0%B8%D1%8F), [тут](http://www.machinelearning.ru/wiki/index.php?title=%D0%9B%D0%B8%D0%BD%D0%B5%D0%B9%D0%BD%D0%B0%D1%8F_%D1%80%D0%B5%D0%B3%D1%80%D0%B5%D1%81%D1%81%D0%B8%D1%8F_%28%D0%BF%D1%80%D0%B8%D0%BC%D0%B5%D1%80%29), [тут](https://proglib.io/p/linear-regression) и много где ещё.\n",
    "\n",
    "### Подключение библиотек и генерация датасета"
   ]
  },
  {
   "cell_type": "code",
   "execution_count": 1,
   "id": "scientific-devon",
   "metadata": {},
   "outputs": [
    {
     "data": {
      "image/png": "[encoded data removed]",
      "text/plain": [
       "<Figure size 432x288 with 1 Axes>"
      ]
     },
     "metadata": {
      "needs_background": "light"
     },
     "output_type": "display_data"
    }
   ],
   "source": [
    "from matplotlib import pyplot as plt\n",
    "from mglearn import datasets\n",
    "import numpy as np\n",
    "\n",
    "x, y  = datasets.make_wave(n_samples=40)\n",
    "\n",
    "plt.scatter(x, y)\n",
    "plt.show()"
   ]
  },
  {
   "cell_type": "markdown",
   "id": "hired-training",
   "metadata": {},
   "source": [
    "### Разделение данных на тренировочную и тестовую выборки"
   ]
  },
  {
   "cell_type": "code",
   "execution_count": 2,
   "id": "opposed-actor",
   "metadata": {},
   "outputs": [
    {
     "data": {
      "image/png": "[encoded data removed]",
      "text/plain": [
       "<Figure size 432x288 with 1 Axes>"
      ]
     },
     "metadata": {
      "needs_background": "light"
     },
     "output_type": "display_data"
    }
   ],
   "source": [
    "from sklearn.model_selection import train_test_split\n",
    "\n",
    "X_train, X_test, y_train, y_test = train_test_split(x, y, random_state=0)\n",
    "\n",
    "plt.scatter(X_train, y_train)\n",
    "plt.scatter(X_test, y_test)\n",
    "plt.show()"
   ]
  },
  {
   "cell_type": "markdown",
   "id": "alone-myanmar",
   "metadata": {},
   "source": [
    "### Обучение модели и оценка точности"
   ]
  },
  {
   "cell_type": "code",
   "execution_count": 3,
   "id": "sitting-reset",
   "metadata": {},
   "outputs": [
    {
     "name": "stdout",
     "output_type": "stream",
     "text": [
      "Точность на тренировочных данных: 0.6883322630458479\n",
      "Точность на тестовых данных: 0.626150295776388\n"
     ]
    }
   ],
   "source": [
    "from sklearn.linear_model import LinearRegression\n",
    "\n",
    "lr = LinearRegression().fit(X_train, y_train)\n",
    "\n",
    "print(f'Точность на тренировочных данных: {lr.score(X_train, y_train)}')\n",
    "print(f'Точность на тестовых данных: {lr.score(X_test, y_test)}')"
   ]
  },
  {
   "cell_type": "markdown",
   "id": "material-palestine",
   "metadata": {},
   "source": [
    "### Прогнозирование"
   ]
  },
  {
   "cell_type": "code",
   "execution_count": 4,
   "id": "owned-taylor",
   "metadata": {},
   "outputs": [
    {
     "name": "stdout",
     "output_type": "stream",
     "text": [
      "Метки тестового набора:\n",
      "[ 0.37299129  0.21778193  0.96695428 -1.38773632 -1.05979555 -0.90496988\n",
      "  0.43655826  0.7789638  -0.54114599 -0.95652133]\n",
      "Прогнозы для тестового набора:\n",
      "[-0.74774302  0.2578853   0.80306544 -1.17592143 -1.60192362 -1.08978037\n",
      "  0.1967429   1.38413782 -0.30800706 -1.5205635 ]\n"
     ]
    }
   ],
   "source": [
    "#Передаем набор с тестовыми признаками для прогноза y\n",
    "y_pred = lr.predict(X_test)\n",
    "\n",
    "print(f\"Метки тестового набора:\\n{y_test}\")\n",
    "print(f\"Прогнозы для тестового набора:\\n{y_pred}\")"
   ]
  },
  {
   "cell_type": "markdown",
   "id": "documented-finger",
   "metadata": {},
   "source": [
    "### Получившиеся весовые коэффициенты $\\omega$, свободный член $b$\n",
    "Для получения значений весовых коэффициентов $\\omega_i$ обученной модели, а также свободного члена $b$, необходимо вызвать методы обученной модели `.coef_` и `.intercept_` соответственно:"
   ]
  },
  {
   "cell_type": "code",
   "execution_count": 5,
   "id": "featured-twelve",
   "metadata": {},
   "outputs": [
    {
     "name": "stdout",
     "output_type": "stream",
     "text": [
      "lr coeff = [0.52424272]\n",
      "lr intercept = -0.09394309015377249\n"
     ]
    }
   ],
   "source": [
    "print('lr coeff = {}'.format(lr.coef_))\n",
    "print('lr intercept = {}'.format(lr.intercept_))"
   ]
  },
  {
   "cell_type": "markdown",
   "id": "civic-sponsorship",
   "metadata": {},
   "source": [
    "### Линия регрессии"
   ]
  },
  {
   "cell_type": "code",
   "execution_count": 6,
   "id": "horizontal-injection",
   "metadata": {},
   "outputs": [
    {
     "data": {
      "image/png": "[encoded data removed]",
      "text/plain": [
       "<Figure size 432x288 with 1 Axes>"
      ]
     },
     "metadata": {
      "needs_background": "light"
     },
     "output_type": "display_data"
    }
   ],
   "source": [
    "plt.scatter(X_train, y_train)\n",
    "plt.scatter(X_test, y_test)\n",
    "\n",
    "plt.plot(X_test, X_test*lr.coef_+lr.intercept_)\n",
    "\n",
    "plt.show()"
   ]
  }
 ],
 "metadata": {
  "kernelspec": {
   "display_name": "Python 3",
   "language": "python",
   "name": "python3"
  },
  "language_info": {
   "codemirror_mode": {
    "name": "ipython",
    "version": 3
   },
   "file_extension": ".py",
   "mimetype": "text/x-python",
   "name": "python",
   "nbconvert_exporter": "python",
   "pygments_lexer": "ipython3",
   "version": "3.8.8"
  }
 },
 "nbformat": 4,
 "nbformat_minor": 5
}
