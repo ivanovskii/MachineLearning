{
 "cells": [
  {
   "cell_type": "markdown",
   "id": "listed-alexandria",
   "metadata": {},
   "source": [
    "# Построение модели ML методом k-ближайщих соседей с использованием датасета \"Ирисы Фишера\""
   ]
  },
  {
   "cell_type": "markdown",
   "id": "ceramic-passage",
   "metadata": {},
   "source": [
    "### Содержание\n",
    "1. [Подключение библиотек и загрузка датасета](#Подключение-библиотек-и-загрузка-датасета)\n",
    "2. [О датасете \"Ирисы Фишера\"](#О-датасете-\"Ирисы-Фишера\")\n",
    "3. [Разделение датасета на тренировочную и тестовую выборки](#Разделение-датасета-на-тренировочную-и-тестовую-выборки)\n",
    "4. [Матрица рассеивания](#Матрица-рассеивания)\n",
    "5. [Построение модели машинного обучения методом k-ближайших соседей](#Построение-модели-машинного-обучения-методом-k-ближайших-соседей)\n",
    "6. [Прогнозирование с использованием полученной модели](#Прогнозирование-с-использованием-полученной-модели)\n",
    "7. [Точность полученной модели](#Точность-полученной-модели)"
   ]
  },
  {
   "cell_type": "markdown",
   "id": "express-preserve",
   "metadata": {},
   "source": [
    "### Подключение библиотек и загрузка датасета"
   ]
  },
  {
   "cell_type": "code",
   "execution_count": null,
   "id": "distributed-sapphire",
   "metadata": {},
   "outputs": [],
   "source": [
    "from sklearn.datasets import load_iris\n",
    "import pandas as pd\n",
    "import numpy as np\n",
    "\n",
    "iris_dataset = load_iris()"
   ]
  },
  {
   "cell_type": "markdown",
   "id": "historic-washer",
   "metadata": {},
   "source": [
    "### О датасете \"Ирисы Фишера\""
   ]
  },
  {
   "cell_type": "markdown",
   "id": "international-officer",
   "metadata": {},
   "source": [
    "В интернете представлено огромное множество информации о датасете \"Ирисы Фишера\". Почитать, например, можно [здесь](https://ru.wikipedia.org/wiki/%D0%98%D1%80%D0%B8%D1%81%D1%8B_%D0%A4%D0%B8%D1%88%D0%B5%D1%80%D0%B0)."
   ]
  },
  {
   "cell_type": "code",
   "execution_count": null,
   "id": "failing-basketball",
   "metadata": {},
   "outputs": [],
   "source": [
    "print(\"Поля датасета: {}\".format(iris_dataset.keys()))"
   ]
  },
  {
   "cell_type": "code",
   "execution_count": null,
   "id": "deadly-indie",
   "metadata": {},
   "outputs": [],
   "source": [
    "print(\"Количество элементов в датасете - {}\".format(len(iris_dataset['data'])))"
   ]
  },
  {
   "cell_type": "code",
   "execution_count": null,
   "id": "adult-repository",
   "metadata": {
    "scrolled": true
   },
   "outputs": [],
   "source": [
    "iris_dataset['data']"
   ]
  },
  {
   "cell_type": "code",
   "execution_count": null,
   "id": "requested-first",
   "metadata": {},
   "outputs": [],
   "source": [
    "iris_dataset['target']"
   ]
  },
  {
   "cell_type": "code",
   "execution_count": null,
   "id": "laden-mailman",
   "metadata": {},
   "outputs": [],
   "source": [
    "iris_dataset['target_names']"
   ]
  },
  {
   "cell_type": "code",
   "execution_count": null,
   "id": "amber-strategy",
   "metadata": {},
   "outputs": [],
   "source": [
    "iris_dataset['feature_names']"
   ]
  },
  {
   "cell_type": "code",
   "execution_count": null,
   "id": "theoretical-north",
   "metadata": {
    "scrolled": true
   },
   "outputs": [],
   "source": [
    "print(iris_dataset['DESCR'])"
   ]
  },
  {
   "cell_type": "markdown",
   "id": "retained-mistake",
   "metadata": {},
   "source": [
    "### Разделение датасета на тренировочную и тестовую выборки"
   ]
  },
  {
   "cell_type": "markdown",
   "id": "developmental-spyware",
   "metadata": {},
   "source": [
    "На тренировочную выборку по умолчанию распределяется в случайном порядке 75% от датасета, а на тестовую 25%"
   ]
  },
  {
   "cell_type": "code",
   "execution_count": null,
   "id": "physical-substance",
   "metadata": {},
   "outputs": [],
   "source": [
    "from sklearn.model_selection import train_test_split\n",
    "\n",
    "X_train, X_test, y_train, y_test = train_test_split(iris_dataset['data'],\n",
    "                                                    iris_dataset['target'],random_state=0)\n",
    "\n",
    "print(\n",
    "    f\"Тренировочная выборка:\\\n",
    "    \\nРазмерность матрицы признаков: {X_train.shape}\\\n",
    "    \\nРазмерность вектора меток: {y_train.shape}\\\n",
    "    \\n\\nТестовая выборка:\\\n",
    "    \\nРазмерность матрицы признаков:{X_test.shape}\\\n",
    "    \\nРазмерность вектора меток: {y_test.shape}\"\n",
    ")"
   ]
  },
  {
   "cell_type": "markdown",
   "id": "victorian-balloon",
   "metadata": {},
   "source": [
    "### Матрица рассеивания"
   ]
  },
  {
   "cell_type": "code",
   "execution_count": null,
   "id": "suffering-kentucky",
   "metadata": {
    "scrolled": false
   },
   "outputs": [],
   "source": [
    "iris_dataframe = pd.DataFrame(X_train, columns=iris_dataset.feature_names)\n",
    "\n",
    "plot = pd.plotting.scatter_matrix(iris_dataframe,\n",
    "                                  c=y_train, figsize=(15,15), marker='o',\n",
    "                                  hist_kwds={'bins':20}, s=60, alpha=.8)"
   ]
  },
  {
   "cell_type": "markdown",
   "id": "hazardous-tokyo",
   "metadata": {},
   "source": [
    "### Построение модели машинного обучения методом k-ближайших соседей"
   ]
  },
  {
   "cell_type": "markdown",
   "id": "tested-fourth",
   "metadata": {},
   "source": [
    "Описание метода можно найти в интернете. Например,\n",
    "[тут](https://ru.wikipedia.org/wiki/%D0%9C%D0%B5%D1%82%D0%BE%D0%B4_k-%D0%B1%D0%BB%D0%B8%D0%B6%D0%B0%D0%B9%D1%88%D0%B8%D1%85_%D1%81%D0%BE%D1%81%D0%B5%D0%B4%D0%B5%D0%B9), \n",
    "[тут](http://www.machinelearning.ru/wiki/index.php?title=%D0%9C%D0%B5%D1%82%D0%BE%D0%B4_%D0%B1%D0%BB%D0%B8%D0%B6%D0%B0%D0%B9%D1%88%D0%B8%D1%85_%D1%81%D0%BE%D1%81%D0%B5%D0%B4%D0%B5%D0%B9),\n",
    "[тут](https://wiki.loginom.ru/articles/k-nearest-neighbor.html)\n",
    "и [тут](https://habr.com/ru/post/149693/). \\\n",
    "Гиперпараметр - переменная, влияющая на точность. В этом методе таковым является число соседей."
   ]
  },
  {
   "cell_type": "code",
   "execution_count": null,
   "id": "respected-sydney",
   "metadata": {},
   "outputs": [],
   "source": [
    "from sklearn.neighbors import KNeighborsClassifier\n",
    "\n",
    "knn = KNeighborsClassifier(n_neighbors=1)\n",
    "\n",
    "knn.fit(X_train, y_train)"
   ]
  },
  {
   "cell_type": "markdown",
   "id": "norwegian-sarah",
   "metadata": {},
   "source": [
    "### Прогнозирование с использованием полученной модели"
   ]
  },
  {
   "cell_type": "code",
   "execution_count": null,
   "id": "respective-canberra",
   "metadata": {},
   "outputs": [],
   "source": [
    "x_new = np.array([[5, 2.9, 1, 0.2]])\n",
    "\n",
    "prediction = knn.predict(x_new)\n",
    "print('Прогноз: {}'.format(prediction))\n",
    "print('Спрогнозированная метка: {}'.format(iris_dataset['target_names'][prediction]))"
   ]
  },
  {
   "cell_type": "code",
   "execution_count": null,
   "id": "radio-eating",
   "metadata": {},
   "outputs": [],
   "source": [
    "y_pred = knn.predict(X_test)\n",
    "print('Прогнозы для тестового набора: \\n {}'.format(y_pred))\n",
    "print('Метки тестового набора: \\n {}'.format(y_test))"
   ]
  },
  {
   "cell_type": "markdown",
   "id": "quiet-compensation",
   "metadata": {},
   "source": [
    "### Точность полученной модели"
   ]
  },
  {
   "cell_type": "code",
   "execution_count": null,
   "id": "cleared-finger",
   "metadata": {},
   "outputs": [],
   "source": [
    "print('Accurancy: {:.2f}'.format(knn.score(X_test, y_test)))"
   ]
  },
  {
   "cell_type": "markdown",
   "id": "derived-mediterranean",
   "metadata": {},
   "source": [
    "Расчет ошибок с использованием [F-score](https://en.wikipedia.org/wiki/F-score)."
   ]
  },
  {
   "cell_type": "code",
   "execution_count": null,
   "id": "generous-parks",
   "metadata": {},
   "outputs": [],
   "source": [
    "from sklearn.metrics import precision_recall_fscore_support\n",
    "\n",
    "print(\"Использование других метрик для определения точности модели:\")\n",
    "print(\n",
    "    \"precision = {}\\\n",
    "    \\nrecall = {}\\\n",
    "    \\nfbeta_score = {}\\\n",
    "    \\nsupport = {}\".format(*precision_recall_fscore_support(y_test, y_pred, average='macro'))\n",
    ")"
   ]
  }
 ],
 "metadata": {
  "kernelspec": {
   "display_name": "Python 3",
   "language": "python",
   "name": "python3"
  },
  "language_info": {
   "codemirror_mode": {
    "name": "ipython",
    "version": 3
   },
   "file_extension": ".py",
   "mimetype": "text/x-python",
   "name": "python",
   "nbconvert_exporter": "python",
   "pygments_lexer": "ipython3",
   "version": "3.9.0"
  }
 },
 "nbformat": 4,
 "nbformat_minor": 5
}
